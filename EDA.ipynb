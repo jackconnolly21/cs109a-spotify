{
 "cells": [
  {
   "cell_type": "markdown",
   "metadata": {},
   "source": [
    "## EDA for final project - Spotify\n",
    "### Music Recommender Systems\n",
    "\n",
    "**Team: Jack Connolly, Andrew Soldini, Nick Kochanek, Chris Jarrett**\n",
    "\n",
    "Using the Spotify Million Playlist Dataset, exploring attributes of the data looking for potentially useful asepcts/groupings/features"
   ]
  },
  {
   "cell_type": "code",
   "execution_count": 1,
   "metadata": {},
   "outputs": [
    {
     "name": "stderr",
     "output_type": "stream",
     "text": [
      "Using TensorFlow backend.\n"
     ]
    }
   ],
   "source": [
    "import json\n",
    "import numpy as np\n",
    "import pandas as pd\n",
    "import matplotlib.pyplot as plt\n",
    "\n",
    "from collections import defaultdict\n",
    "\n",
    "import keras\n",
    "from keras.models import Sequential\n",
    "from keras.layers import *"
   ]
  },
  {
   "cell_type": "code",
   "execution_count": 2,
   "metadata": {
    "collapsed": true
   },
   "outputs": [],
   "source": [
    "data_path = 'large_files/'"
   ]
  },
  {
   "cell_type": "markdown",
   "metadata": {},
   "source": [
    "Note: The code below creating the network takes a long time and the output pickle files are probably too big to upload to Canvas. If you want to take a look at them we'd be happy to share."
   ]
  },
  {
   "cell_type": "code",
   "execution_count": 5,
   "metadata": {
    "collapsed": true
   },
   "outputs": [
    {
     "name": "stdout",
     "output_type": "stream",
     "text": [
      "done loading file 0\n",
      "done loading file 1\n",
      "done loading file 2\n",
      "done loading file 3\n",
      "done loading file 4\n",
      "done loading file 5\n",
      "done loading file 6\n",
      "done loading file 7\n",
      "done loading file 8\n"
     ]
    },
    {
     "ename": "KeyboardInterrupt",
     "evalue": "",
     "output_type": "error",
     "traceback": [
      "\u001b[0;31m---------------------------------------------------------------------------\u001b[0m",
      "\u001b[0;31mKeyboardInterrupt\u001b[0m                         Traceback (most recent call last)",
      "\u001b[0;32m<ipython-input-5-fb907e81380a>\u001b[0m in \u001b[0;36m<module>\u001b[0;34m()\u001b[0m\n\u001b[1;32m     32\u001b[0m                 \u001b[0mnetwork\u001b[0m\u001b[0;34m[\u001b[0m\u001b[0mtrack_uri\u001b[0m\u001b[0;34m]\u001b[0m \u001b[0;34m=\u001b[0m \u001b[0mnp\u001b[0m\u001b[0;34m.\u001b[0m\u001b[0marray\u001b[0m\u001b[0;34m(\u001b[0m\u001b[0mshared_songs\u001b[0m\u001b[0;34m)\u001b[0m\u001b[0;34m\u001b[0m\u001b[0m\n\u001b[1;32m     33\u001b[0m             \u001b[0;32melse\u001b[0m \u001b[0;34m:\u001b[0m\u001b[0;34m\u001b[0m\u001b[0m\n\u001b[0;32m---> 34\u001b[0;31m                 \u001b[0mnetwork\u001b[0m\u001b[0;34m[\u001b[0m\u001b[0mtrack_uri\u001b[0m\u001b[0;34m]\u001b[0m \u001b[0;34m=\u001b[0m \u001b[0mnp\u001b[0m\u001b[0;34m.\u001b[0m\u001b[0mappend\u001b[0m\u001b[0;34m(\u001b[0m\u001b[0mnetwork\u001b[0m\u001b[0;34m[\u001b[0m\u001b[0mtrack_uri\u001b[0m\u001b[0;34m]\u001b[0m\u001b[0;34m,\u001b[0m \u001b[0mnp\u001b[0m\u001b[0;34m.\u001b[0m\u001b[0marray\u001b[0m\u001b[0;34m(\u001b[0m\u001b[0mshared_songs\u001b[0m\u001b[0;34m)\u001b[0m\u001b[0;34m)\u001b[0m\u001b[0;34m\u001b[0m\u001b[0m\n\u001b[0m\u001b[1;32m     35\u001b[0m \u001b[0;34m\u001b[0m\u001b[0m\n\u001b[1;32m     36\u001b[0m     \u001b[0mprint\u001b[0m \u001b[0;34m(\u001b[0m\u001b[0;34m\"done loading file\"\u001b[0m\u001b[0;34m,\u001b[0m \u001b[0mi\u001b[0m\u001b[0;34m)\u001b[0m\u001b[0;34m\u001b[0m\u001b[0m\n",
      "\u001b[0;32m/Library/anaconda/envs/cs109/lib/python3.6/site-packages/numpy/lib/function_base.py\u001b[0m in \u001b[0;36mappend\u001b[0;34m(arr, values, axis)\u001b[0m\n\u001b[1;32m   5001\u001b[0m         \u001b[0mvalues\u001b[0m \u001b[0;34m=\u001b[0m \u001b[0mravel\u001b[0m\u001b[0;34m(\u001b[0m\u001b[0mvalues\u001b[0m\u001b[0;34m)\u001b[0m\u001b[0;34m\u001b[0m\u001b[0m\n\u001b[1;32m   5002\u001b[0m         \u001b[0maxis\u001b[0m \u001b[0;34m=\u001b[0m \u001b[0marr\u001b[0m\u001b[0;34m.\u001b[0m\u001b[0mndim\u001b[0m\u001b[0;34m-\u001b[0m\u001b[0;36m1\u001b[0m\u001b[0;34m\u001b[0m\u001b[0m\n\u001b[0;32m-> 5003\u001b[0;31m     \u001b[0;32mreturn\u001b[0m \u001b[0mconcatenate\u001b[0m\u001b[0;34m(\u001b[0m\u001b[0;34m(\u001b[0m\u001b[0marr\u001b[0m\u001b[0;34m,\u001b[0m \u001b[0mvalues\u001b[0m\u001b[0;34m)\u001b[0m\u001b[0;34m,\u001b[0m \u001b[0maxis\u001b[0m\u001b[0;34m=\u001b[0m\u001b[0maxis\u001b[0m\u001b[0;34m)\u001b[0m\u001b[0;34m\u001b[0m\u001b[0m\n\u001b[0m",
      "\u001b[0;31mKeyboardInterrupt\u001b[0m: "
     ]
    }
   ],
   "source": [
    "song_name_to_uri = {}\n",
    "uri_to_song_name = {}\n",
    "network = {}\n",
    "track_counts = {}\n",
    "\n",
    "f_start = 0\n",
    "f_end = 999\n",
    "\n",
    "# open the first n files, and read them into the network \n",
    "for i in range(20) : \n",
    "    with open(data_path + '/mpd.slice.{}-{}.json'.format(f_start, f_end)) as f : \n",
    "        data = json.load(f)\n",
    "        \n",
    "    for playlist in data['playlists'] : \n",
    "\n",
    "        for song in playlist['tracks'] : \n",
    "            track_name  = song['track_name']\n",
    "            track_uri = song['track_uri']\n",
    "            shared_songs = np.array([s['track_uri'] for s in playlist['tracks'] if s['track_uri'] != track_uri])\n",
    "\n",
    "            if track_name not in track_counts:\n",
    "                track_counts[track_name] = 0     \n",
    "            track_counts[track_name] += 1\n",
    "            \n",
    "            if track_name not in song_name_to_uri : \n",
    "                song_name_to_uri[track_name] = track_uri\n",
    "            if track_uri not in uri_to_song_name : \n",
    "                uri_to_song_name[track_uri] = track_name\n",
    "\n",
    "            if track_uri not in network : \n",
    "                network[track_uri] = np.array(shared_songs)\n",
    "            else : \n",
    "                network[track_uri] = np.append(network[track_uri], np.array(shared_songs))\n",
    "                \n",
    "    print (\"done loading file\", i)             \n",
    "    f_start += 1000\n",
    "    f_end += 1000\n",
    "    \n",
    "\n",
    "# clean the network (switch to counts rather then multiple edges) \n",
    "print(\"Cleaning up the Network a bit\")\n",
    "for uri in network : \n",
    "    unique, counts = np.unique(network[uri], return_counts=True)\n",
    "    network[uri] = {'songs' : unique, 'counts': counts / np.sum(counts)}\n",
    "\n",
    "# Save the network \n",
    "with open(data_path + 'basic_network_20.pickle', 'wb') as f:\n",
    "    pickle.dump(network, f)\n",
    "\n",
    "with open(data_path + 'songs_to_uri.pickle', 'wb') as f:\n",
    "    pickle.dump(song_name_to_uri, f)\n",
    "\n",
    "with open(data_path + 'uri_to_song', 'wb') as f:\n",
    "    pickle.dump(uri_to_song_name, f)"
   ]
  },
  {
   "cell_type": "code",
   "execution_count": 4,
   "metadata": {},
   "outputs": [
    {
     "data": {
      "image/png": "[encoded data removed]",
      "text/plain": [
       "<matplotlib.figure.Figure at 0x124d8bf98>"
      ]
     },
     "metadata": {},
     "output_type": "display_data"
    }
   ],
   "source": [
    "names = list(track_counts.keys())\n",
    "counts = list(track_counts.values())\n",
    "\n",
    "num_files = 20\n",
    "percent_data = (num_files / 1000) * 100\n",
    "\n",
    "plt.plot(range(len(names)), counts)\n",
    "plt.xlabel('Songs')\n",
    "plt.ylabel('# of Times it Appears')\n",
    "plt.title(f'Counts for each song that appears in the first {percent_data}% of the data')\n",
    "plt.show()"
   ]
  }
 ],
 "metadata": {
  "kernelspec": {
   "display_name": "CS 109",
   "language": "python",
   "name": "cs109"
  },
  "language_info": {
   "codemirror_mode": {
    "name": "ipython",
    "version": 3
   },
   "file_extension": ".py",
   "mimetype": "text/x-python",
   "name": "python",
   "nbconvert_exporter": "python",
   "pygments_lexer": "ipython3",
   "version": "3.6.2"
  }
 },
 "nbformat": 4,
 "nbformat_minor": 2
}
