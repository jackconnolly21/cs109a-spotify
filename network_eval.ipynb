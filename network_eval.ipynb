{
 "cells": [
  {
   "cell_type": "code",
   "execution_count": 11,
   "metadata": {},
   "outputs": [],
   "source": [
    "import json\n",
    "import numpy as np\n",
    "import sys\n",
    "import pickle\n",
    "import matplotlib.pyplot as plt\n",
    "\n",
    "NETWORK_FILE_PATH = './cs109_final_backend/cs109_final_backend/network_files/pickled_network.pickle'\n",
    "\n",
    "with open(NETWORK_FILE_PATH, 'rb') as f: \n",
    "    NETWORK = pickle.load(f)\n",
    "    "
   ]
  },
  {
   "cell_type": "code",
   "execution_count": 12,
   "metadata": {
    "collapsed": true
   },
   "outputs": [],
   "source": [
    "def n_top_songs(playlist_songs, network, num_samples=4000, num_top_songs=100): \n",
    "    key_errors = 0\n",
    "    all_samples = np.array([])\n",
    "    for song_uri in playlist_songs: \n",
    "        try : \n",
    "            sample = np.random.choice(network[song_uri]['songs'], num_samples, p=network[song_uri]['counts'])\n",
    "            all_samples = np.append(all_samples, sample)\n",
    "        except KeyError: \n",
    "            key_errors += 1\n",
    "    \n",
    "    unique, counts = np.unique(all_samples, return_counts=True)\n",
    "    \n",
    "    counts = counts.astype(float) / np.sum(counts)\n",
    "    # print (counts)\n",
    "    counted_samples = zip(unique, counts)\n",
    "    counted_samples = [sample for sample in counted_samples if sample[0] not in playlist_songs]\n",
    "    counted_samples = sorted(counted_samples, key=lambda x: x[1], reverse=True)\n",
    "    \n",
    "    num_to_return = min(num_top_songs, len(counted_samples))\n",
    "\n",
    "#     print (\"There were {} key errors\".format(key_errors))\n",
    "    return counted_samples[:num_to_return]"
   ]
  },
  {
   "cell_type": "code",
   "execution_count": 13,
   "metadata": {},
   "outputs": [],
   "source": [
    "with open('./mpd.v1/data/mpd.slice.{}-{}.json'.format(5000, 5999)) as f : \n",
    "        data = json.load(f)"
   ]
  },
  {
   "cell_type": "code",
   "execution_count": 14,
   "metadata": {},
   "outputs": [],
   "source": [
    "# tracks = [t['track_uri'] for t in data['playlists'][8]['tracks']]\n",
    "# train_tracks = tracks[:5]  \n",
    "# test_tracks = tracks[5:]"
   ]
  },
  {
   "cell_type": "code",
   "execution_count": 15,
   "metadata": {},
   "outputs": [],
   "source": [
    "def evaluate_accuracy(train, test, network, num_predictions): \n",
    "    print (\"starting with {} songs, and trying to find {} songs\".format(len(train), len(test)))\n",
    "    preds = n_top_songs(train, network, num_top_songs = num_predictions)\n",
    "    preds = [p[0] for p in preds]\n",
    "    correct_ratio = len([x for x in preds if x in test])/(1. * len(test))\n",
    "    print(correct_ratio)\n",
    "    return correct_ratio"
   ]
  },
  {
   "cell_type": "code",
   "execution_count": 16,
   "metadata": {
    "scrolled": true
   },
   "outputs": [],
   "source": [
    "# evaluate_accuracy(train_tracks, test_tracks, NETWORK, 500)"
   ]
  },
  {
   "cell_type": "code",
   "execution_count": 17,
   "metadata": {},
   "outputs": [],
   "source": [
    "def build_train_test_set(start, blocks = 1, n_train=10) : \n",
    "    \"\"\" evaluates on n 1000 playlist blocks beginning with file start = start\n",
    "    \"\"\"\n",
    "    f_start = start * 1000\n",
    "    f_end = start * 1000 + 999\n",
    "    train_songs = []\n",
    "    test_songs = []\n",
    "    for i in range(blocks): \n",
    "        with open('./mpd.v1/data/mpd.slice.{}-{}.json'.format(f_start, f_end)) as f :\n",
    "            data = json.load(f)\n",
    "            \n",
    "            for playlist in data['playlists'] : \n",
    "                tracks = [t['track_uri'] for t in playlist['tracks']]\n",
    "                if len(tracks) > 10 * n_train: \n",
    "                    train = tracks[:n_train]\n",
    "                    test = tracks[n_train:]\n",
    "\n",
    "                    train_songs.append(train)\n",
    "                    test_songs.append(test)\n",
    "            \n",
    "            \n",
    "    return train_songs, test_songs            \n",
    "            "
   ]
  },
  {
   "cell_type": "code",
   "execution_count": 18,
   "metadata": {},
   "outputs": [],
   "source": [
    "train, test = build_train_test_set(100, blocks=10,)"
   ]
  },
  {
   "cell_type": "code",
   "execution_count": 19,
   "metadata": {},
   "outputs": [
    {
     "data": {
      "text/plain": [
       "['spotify:track:2ND2QeqhI5QTPuf9CrACSd',\n",
       " 'spotify:track:7KXjTSCq5nL1LoYtL7XAwS',\n",
       " 'spotify:track:439TlnnznSiBbQbgXiBqAd',\n",
       " 'spotify:track:1ZX8sOGnVyE5FZBh1oKzZa',\n",
       " 'spotify:track:3oiHKYb11NDsLlHJZXYa53',\n",
       " 'spotify:track:6uhOq4yyFKGXySbH1yv5j6',\n",
       " 'spotify:track:27PmKcvsjXp7G1IQgLUkYY',\n",
       " 'spotify:track:27mF2eUbhExYWiOT0y9cuc',\n",
       " 'spotify:track:5tZmLjU4vhPlJb12IweZuB',\n",
       " 'spotify:track:1m5HcIPX2T3wSoiHWhgwpA']"
      ]
     },
     "execution_count": 19,
     "metadata": {},
     "output_type": "execute_result"
    }
   ],
   "source": [
    "train[0]"
   ]
  },
  {
   "cell_type": "code",
   "execution_count": 20,
   "metadata": {},
   "outputs": [
    {
     "data": {
      "text/plain": [
       "(2320, 2320)"
      ]
     },
     "execution_count": 20,
     "metadata": {},
     "output_type": "execute_result"
    }
   ],
   "source": [
    "len(train), len(test)"
   ]
  },
  {
   "cell_type": "code",
   "execution_count": null,
   "metadata": {
    "scrolled": false
   },
   "outputs": [],
   "source": [
    "to_plot = []\n",
    "train_size = []\n",
    "for trn, tst in zip(train, test): \n",
    "    to_plot.append(evaluate_accuracy(trn, tst, NETWORK, 500))\n",
    "    train_size.append(1. * len(trn)/ len(tst))"
   ]
  },
  {
   "cell_type": "code",
   "execution_count": 22,
   "metadata": {},
   "outputs": [
    {
     "data": {
      "image/png": "[encoded data removed]",
      "text/plain": [
       "<matplotlib.figure.Figure at 0x11cd09978>"
      ]
     },
     "metadata": {
      "needs_background": "light"
     },
     "output_type": "display_data"
    }
   ],
   "source": [
    "bins = np.linspace(0,1,25)\n",
    "plt.hist(to_plot, bins=bins)\n",
    "plt.title('Histogram of % on top 500. Given 10 songs to train and 100+ to test')\n",
    "plt.show()"
   ]
  },
  {
   "cell_type": "code",
   "execution_count": 23,
   "metadata": {
    "scrolled": true
   },
   "outputs": [
    {
     "name": "stdout",
     "output_type": "stream",
     "text": [
      "0.2866185136416287\n",
      "0.25\n",
      "0.039539681998899255\n"
     ]
    }
   ],
   "source": [
    "print(np.mean(to_plot))\n",
    "print(np.median(to_plot))\n",
    "print(np.var(to_plot))"
   ]
  },
  {
   "cell_type": "code",
   "execution_count": 24,
   "metadata": {},
   "outputs": [
    {
     "data": {
      "image/png": "[encoded data removed]",
      "text/plain": [
       "<matplotlib.figure.Figure at 0x3d7934ac8>"
      ]
     },
     "metadata": {
      "needs_background": "light"
     },
     "output_type": "display_data"
    }
   ],
   "source": [
    "plt.scatter(train_size, to_plot)\n",
    "plt.title('Correlation betw')\n",
    "plt.show()"
   ]
  },
  {
   "cell_type": "code",
   "execution_count": null,
   "metadata": {
    "collapsed": true
   },
   "outputs": [],
   "source": []
  }
 ],
 "metadata": {
  "kernelspec": {
   "display_name": "CS 109",
   "language": "python",
   "name": "cs109"
  },
  "language_info": {
   "codemirror_mode": {
    "name": "ipython",
    "version": 3
   },
   "file_extension": ".py",
   "mimetype": "text/x-python",
   "name": "python",
   "nbconvert_exporter": "python",
   "pygments_lexer": "ipython3",
   "version": "3.6.2"
  }
 },
 "nbformat": 4,
 "nbformat_minor": 2
}
